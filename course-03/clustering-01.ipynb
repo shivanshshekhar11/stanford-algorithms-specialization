{
 "cells": [
  {
   "cell_type": "code",
   "execution_count": null,
   "metadata": {
    "collapsed": true
   },
   "outputs": [],
   "source": [
    "#manual input\n",
    "\n",
    "rawgraph = []\n",
    "\n",
    "number = int(input(\"Enter the number of edges - \"))\n",
    "\n",
    "vertices = int(input(\"Enter the number of vertices - \"))\n",
    "\n",
    "clusters = int(input(\"Enter the number of clusters - \"))\n",
    "\n",
    "for i in range(0,number):\n",
    "    rawgraph.append(input(\"Enter the source destination cost of the edge - \").split(\" \"))\n",
    "\n",
    "print(rawgraph)"
   ]
  },
  {
   "cell_type": "code",
   "execution_count": null,
   "metadata": {
    "pycharm": {
     "name": "#%%\n"
    }
   },
   "outputs": [],
   "source": [
    "#file input\n",
    "\n",
    "rawgraph = []\n",
    "\n",
    "file = open(r\"C:\\Users\\shiva\\Downloads\\clustering-01.txt\",\"r\")\n",
    "\n",
    "data = file.readlines()\n",
    "\n",
    "vertices = int(data[0].split(\" \")[0])\n",
    "\n",
    "clusters = 4\n",
    "\n",
    "for i in data[1:]:\n",
    "    i = i.split(\" \")\n",
    "    i[2]=int(i[2][:-1])\n",
    "    rawgraph.append(i)\n",
    "\n",
    "#print(rawgraph)\n",
    "print(vertices)"
   ]
  },
  {
   "cell_type": "code",
   "execution_count": null,
   "metadata": {
    "pycharm": {
     "name": "#%%\n"
    }
   },
   "outputs": [],
   "source": [
    "rawgraph = sorted(rawgraph, key= lambda x: int(x[2]))\n",
    "#print(rawgraph)"
   ]
  },
  {
   "cell_type": "code",
   "execution_count": null,
   "metadata": {
    "pycharm": {
     "name": "#%%\n"
    }
   },
   "outputs": [],
   "source": [
    "union_find = []\n",
    "union_find.append(\"t\")\n",
    "\n",
    "for i in range(1,vertices+1):\n",
    "    union_find.append([i,1])\n",
    "\n",
    "#print(union_find)"
   ]
  },
  {
   "cell_type": "code",
   "execution_count": null,
   "metadata": {
    "pycharm": {
     "name": "#%%\n"
    }
   },
   "outputs": [],
   "source": [
    "i = 0\n",
    "iter = 0\n",
    "\n",
    "while(i<vertices-clusters):\n",
    "    #print(rawgraph[iter])\n",
    "\n",
    "    node1 = int(rawgraph[iter][0])\n",
    "    node2 = int(rawgraph[iter][1])\n",
    "\n",
    "    leader1 = union_find[node1]\n",
    "    leader2 = union_find[node2]\n",
    "\n",
    "    if leader1[0] == leader2[0]:\n",
    "        iter+=1\n",
    "        continue\n",
    "\n",
    "    else:\n",
    "        iter+=1\n",
    "        i+=1\n",
    "        if leader1[1] > leader2[1]:\n",
    "\n",
    "            union_find[node1][1]+=union_find[node2][1]\n",
    "            leader1 = union_find[node1]\n",
    "\n",
    "            for j in range(0,len(union_find)):\n",
    "                if union_find[j][0] == leader1[0] or union_find[j][0] == leader2[0]:\n",
    "                    union_find[j] = leader1\n",
    "\n",
    "        else:\n",
    "\n",
    "            union_find[node2][1]+=union_find[node1][1]\n",
    "            leader2 = union_find[node2]\n",
    "\n",
    "            for j in range(0,len(union_find)):\n",
    "                if union_find[j][0] == leader1[0] or union_find[j][0] == leader2[0]:\n",
    "                    union_find[j] = leader2\n",
    "\n",
    "    #print(union_find)\n",
    "\n",
    "#print(rawgraph[iter])\n",
    "#print(union_find)\n",
    "\n",
    "while(iter):\n",
    "\n",
    "    node1 = int(rawgraph[iter][0])\n",
    "    node2 = int(rawgraph[iter][1])\n",
    "\n",
    "    if union_find[node1][0] == union_find[node2][0]:\n",
    "        iter+=1\n",
    "        continue\n",
    "\n",
    "    else:\n",
    "        print(rawgraph[iter])\n",
    "        break"
   ]
  },
  {
   "cell_type": "code",
   "execution_count": null,
   "outputs": [],
   "source": [],
   "metadata": {
    "collapsed": false,
    "pycharm": {
     "name": "#%%\n"
    }
   }
  }
 ],
 "metadata": {
  "kernelspec": {
   "display_name": "Python 3",
   "language": "python",
   "name": "python3"
  },
  "language_info": {
   "codemirror_mode": {
    "name": "ipython",
    "version": 3
   },
   "file_extension": ".py",
   "mimetype": "text/x-python",
   "name": "python",
   "nbconvert_exporter": "python",
   "pygments_lexer": "ipython3",
   "version": "3.7.6"
  }
 },
 "nbformat": 4,
 "nbformat_minor": 1
}