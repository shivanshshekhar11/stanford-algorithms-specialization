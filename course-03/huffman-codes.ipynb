{
 "cells": [
  {
   "cell_type": "code",
   "execution_count": null,
   "metadata": {
    "collapsed": true
   },
   "outputs": [],
   "source": [
    "#tree node data structure\n",
    "\n",
    "class Node:\n",
    "    def __init__(self, data, left, right, parent):\n",
    "        self.left = left\n",
    "        self.right = right\n",
    "        self.data = data\n",
    "        self.parent = parent\n",
    "\n",
    "tree = {}"
   ]
  },
  {
   "cell_type": "code",
   "execution_count": null,
   "outputs": [],
   "source": [
    "#My heap implementation is wrong, will correct it ...\n",
    "\n",
    "def insert_heap_min (heap,num):\n",
    "    temp = 0\n",
    "\n",
    "    heap.append(num)\n",
    "\n",
    "    pos = len(heap)\n",
    "\n",
    "    while(pos-1!=0):\n",
    "        if(heap[pos-1]<heap[(pos//2)-1]):\n",
    "            temp = heap[(pos//2)-1]\n",
    "            heap[(pos//2)-1] = heap[pos-1]\n",
    "            heap[pos-1] = temp\n",
    "\n",
    "            pos = pos//2\n",
    "            continue\n",
    "\n",
    "        else:\n",
    "            break\n",
    "\n",
    "def extract_min(heap):\n",
    "\n",
    "    if(len(heap)==0):\n",
    "        print(\"heap empty\")\n",
    "        return\n",
    "\n",
    "    num = heap[0]\n",
    "    temp = 0\n",
    "\n",
    "    heap[0] = heap[-1]\n",
    "    heap.pop(-1)\n",
    "\n",
    "    pos = 1\n",
    "\n",
    "    while (pos*2<=len(heap)):\n",
    "\n",
    "        if (pos*2+1>len(heap)):\n",
    "            if(heap[pos-1]>heap[pos*2-1]):\n",
    "                temp = heap[(pos*2)-1]\n",
    "                heap[(pos*2)-1] = heap[pos-1]\n",
    "                heap[pos-1] = temp\n",
    "\n",
    "                pos=pos*2\n",
    "                continue\n",
    "\n",
    "            break\n",
    "\n",
    "        if(heap[(pos*2)-1]<heap[pos*2]):\n",
    "            temp = heap[(pos*2)-1]\n",
    "            heap[(pos*2)-1] = heap[pos-1]\n",
    "            heap[pos-1] = temp\n",
    "\n",
    "            pos=pos*2\n",
    "            continue\n",
    "\n",
    "        else:\n",
    "            temp = heap[(pos*2)]\n",
    "            heap[(pos*2)] = heap[pos-1]\n",
    "            heap[pos-1] = temp\n",
    "\n",
    "            pos=pos*2+1\n",
    "            continue\n",
    "\n",
    "    return num"
   ],
   "metadata": {
    "collapsed": false,
    "pycharm": {
     "name": "#%%\n"
    }
   }
  },
  {
   "cell_type": "code",
   "execution_count": null,
   "outputs": [],
   "source": [
    "heap = []\n",
    "temp = []\n",
    "\n",
    "file = open(r\"C:\\Users\\shiva\\Downloads\\huffman-codes.txt\",\"r\")\n",
    "\n",
    "data = file.readlines()\n",
    "\n",
    "sym = int(data[0])\n",
    "\n",
    "for i in data[1:]:\n",
    "    wt = int(i)\n",
    "    insert_heap_min(heap,wt)\n",
    "    temp.append(wt)\n",
    "    tree[wt] = Node(wt,\"t\",\"t\",0,0)\n",
    "\n",
    "minimum = min(temp)\n",
    "maximum = max(temp)\n",
    "#print(temp)"
   ],
   "metadata": {
    "collapsed": false,
    "pycharm": {
     "name": "#%%\n"
    }
   }
  },
  {
   "cell_type": "code",
   "execution_count": null,
   "outputs": [],
   "source": [
    "#Using my heap implementation, gives wrong answer in case of maximum encoding length ...\n",
    "\n",
    "while(len(heap)>1):\n",
    "    min1 = extract_min(heap)\n",
    "    min2 = extract_min(heap)\n",
    "    sum = min1 + min2\n",
    "\n",
    "    insert_heap_min(heap, sum)\n",
    "\n",
    "    tree[sum] = Node(sum,min1,min2,0)\n",
    "    tree[min1].parent = sum\n",
    "    tree[min2].parent = sum"
   ],
   "metadata": {
    "collapsed": false,
    "pycharm": {
     "name": "#%%\n"
    }
   }
  },
  {
   "cell_type": "code",
   "execution_count": null,
   "outputs": [],
   "source": [
    "while(len(temp)>1):\n",
    "    min1 = min(temp)\n",
    "    temp.remove(min1)\n",
    "\n",
    "    min2 = min(temp)\n",
    "    temp.remove(min2)\n",
    "\n",
    "    sum = min1 + min2\n",
    "\n",
    "    temp.append(sum)\n",
    "\n",
    "    tree[sum] = Node(sum,min1,min2,0)\n",
    "    tree[min1].parent = sum\n",
    "    tree[min2].parent = sum"
   ],
   "metadata": {
    "collapsed": false,
    "pycharm": {
     "name": "#%%\n"
    }
   }
  },
  {
   "cell_type": "code",
   "execution_count": null,
   "outputs": [],
   "source": [
    "tree_len = 0\n",
    "\n",
    "print(minimum)\n",
    "\n",
    "while(tree[minimum].parent!=0):\n",
    "    tree_len+=1\n",
    "    minimum = tree[minimum].parent\n",
    "\n",
    "print(tree_len)"
   ],
   "metadata": {
    "collapsed": false,
    "pycharm": {
     "name": "#%%\n"
    }
   }
  },
  {
   "cell_type": "code",
   "execution_count": null,
   "outputs": [],
   "source": [
    "tree_len = 0\n",
    "\n",
    "print(maximum)\n",
    "\n",
    "while(tree[maximum].parent!=0):\n",
    "    tree_len+=1\n",
    "    maximum = tree[maximum].parent\n",
    "\n",
    "print(tree_len)"
   ],
   "metadata": {
    "collapsed": false,
    "pycharm": {
     "name": "#%%\n"
    }
   }
  },
  {
   "cell_type": "code",
   "execution_count": null,
   "outputs": [],
   "source": [],
   "metadata": {
    "collapsed": false,
    "pycharm": {
     "name": "#%%\n"
    }
   }
  }
 ],
 "metadata": {
  "kernelspec": {
   "display_name": "Python 3",
   "language": "python",
   "name": "python3"
  },
  "language_info": {
   "codemirror_mode": {
    "name": "ipython",
    "version": 2
   },
   "file_extension": ".py",
   "mimetype": "text/x-python",
   "name": "python",
   "nbconvert_exporter": "python",
   "pygments_lexer": "ipython2",
   "version": "2.7.6"
  }
 },
 "nbformat": 4,
 "nbformat_minor": 0
}