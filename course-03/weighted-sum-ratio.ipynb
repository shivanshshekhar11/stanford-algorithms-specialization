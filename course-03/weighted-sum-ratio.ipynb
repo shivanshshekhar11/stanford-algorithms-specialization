{
 "cells": [
  {
   "cell_type": "code",
   "execution_count": null,
   "outputs": [],
   "source": [
    "#Scheduling jobs problem, to minimize the weighted sum of completion times of jobs\n",
    "#manual input\n",
    "\n",
    "job_list = []\n",
    "\n",
    "number = int(input(\"Enter the number of jobs - \"))\n",
    "\n",
    "for i in range (0,number):\n",
    "    job_list.append(input().split(\" \"))     #input will be \"weight length\" of the job\n",
    "\n",
    "print(job_list)"
   ],
   "metadata": {
    "collapsed": false,
    "pycharm": {
     "name": "#%%\n"
    }
   }
  },
  {
   "cell_type": "code",
   "execution_count": null,
   "metadata": {
    "collapsed": true
   },
   "outputs": [],
   "source": [
    "#file input\n",
    "\n",
    "job_list = []\n",
    "\n",
    "file = open(r\"C:\\Users\\shiva\\Downloads\\min-weight-sum.txt\",\"r\")\n",
    "\n",
    "data = file.readlines()\n",
    "\n",
    "for i in data[1:]:\n",
    "    i = i.split(\" \")\n",
    "    i[1]=i[1][:-1]\n",
    "    job_list.append(i)\n",
    "\n",
    "print(job_list)"
   ]
  },
  {
   "cell_type": "code",
   "execution_count": null,
   "outputs": [],
   "source": [
    "job_dict = []\n",
    "\n",
    "for i in range(0,len(job_list)):\n",
    "    job_dict.append([i, int(job_list[i][0])/int(job_list[i][1])])\n",
    "\n",
    "print(job_dict)"
   ],
   "metadata": {
    "collapsed": false,
    "pycharm": {
     "name": "#%%\n"
    }
   }
  },
  {
   "cell_type": "code",
   "execution_count": null,
   "outputs": [],
   "source": [
    "job_dict = sorted(job_dict, key=lambda x: x[1], reverse=True)\n",
    "print(job_dict)"
   ],
   "metadata": {
    "collapsed": false,
    "pycharm": {
     "name": "#%%\n"
    }
   }
  },
  {
   "cell_type": "code",
   "execution_count": null,
   "outputs": [],
   "source": [
    "weighted_sum = 0\n",
    "comp_time = 0\n",
    "\n",
    "i=0\n",
    "while(i!=-1):\n",
    "    if i == len(job_dict):\n",
    "        break\n",
    "\n",
    "    else:\n",
    "        comp_time+=int(job_list[job_dict[i][0]][1])\n",
    "        weighted_sum+= int(job_list[job_dict[i][0]][0])*comp_time\n",
    "        i+=1\n",
    "\n",
    "print(comp_time)\n",
    "print(weighted_sum)"
   ],
   "metadata": {
    "collapsed": false,
    "pycharm": {
     "name": "#%%\n"
    }
   }
  },
  {
   "cell_type": "code",
   "execution_count": null,
   "outputs": [],
   "source": [],
   "metadata": {
    "collapsed": false,
    "pycharm": {
     "name": "#%%\n"
    }
   }
  }
 ],
 "metadata": {
  "kernelspec": {
   "display_name": "Python 3",
   "language": "python",
   "name": "python3"
  },
  "language_info": {
   "codemirror_mode": {
    "name": "ipython",
    "version": 2
   },
   "file_extension": ".py",
   "mimetype": "text/x-python",
   "name": "python",
   "nbconvert_exporter": "python",
   "pygments_lexer": "ipython2",
   "version": "2.7.6"
  }
 },
 "nbformat": 4,
 "nbformat_minor": 0
}