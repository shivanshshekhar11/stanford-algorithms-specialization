{
 "cells": [
  {
   "cell_type": "code",
   "execution_count": null,
   "metadata": {
    "collapsed": true
   },
   "outputs": [],
   "source": [
    "#A slightly more complicated application of clustering algo (Kruskal's MST algo)\n",
    "\n",
    "rawgraph = []\n",
    "\n",
    "file = open(r\"C:\\Users\\shiva\\Downloads\\clustering-02.txt\",\"r\")\n",
    "\n",
    "data = file.readlines()\n",
    "\n",
    "vertices = int(data[0].split(\" \")[0])\n",
    "\n",
    "for i in data[1:]:\n",
    "    i = i.split(\" \")\n",
    "    i = \"\".join(i)[:-1]\n",
    "    rawgraph.append(i)\n",
    "\n",
    "#print(rawgraph)\n",
    "print(vertices)"
   ]
  },
  {
   "cell_type": "code",
   "execution_count": null,
   "outputs": [],
   "source": [
    "map = {}\n",
    "\n",
    "for i in range(0,len(rawgraph)):\n",
    "    intmask = int(rawgraph[i],2)\n",
    "\n",
    "    if intmask in map.keys():\n",
    "        map[intmask].append(rawgraph[i])\n",
    "\n",
    "    else:\n",
    "        map[intmask] = []\n",
    "        map[intmask].append(rawgraph[i])\n",
    "\n",
    "#print(map)"
   ],
   "metadata": {
    "collapsed": false,
    "pycharm": {
     "name": "#%%\n"
    }
   }
  },
  {
   "cell_type": "code",
   "execution_count": null,
   "outputs": [],
   "source": [
    "bitmask = [1 << i for i in range(24)]\n",
    "bitmask.append(0)\n",
    "\n",
    "#print(bitmask)"
   ],
   "metadata": {
    "collapsed": false,
    "pycharm": {
     "name": "#%%\n"
    }
   }
  },
  {
   "cell_type": "code",
   "execution_count": null,
   "outputs": [],
   "source": [
    "for i in range(0,24):\n",
    "    for j in range(i+1,24):\n",
    "        string = list(\"000000000000000000000000\")\n",
    "        string[i] = \"1\"\n",
    "        string[j] = \"1\"\n",
    "        bitmask.append(int(\"\".join(string),2))\n",
    "\n",
    "bitmask.sort()\n",
    "print(bitmask)"
   ],
   "metadata": {
    "collapsed": false,
    "pycharm": {
     "name": "#%%\n"
    }
   }
  },
  {
   "cell_type": "code",
   "execution_count": null,
   "outputs": [],
   "source": [
    "\"\"\"\n",
    "Union-find data structure.\n",
    "Reference - https://networkx.org/documentation/stable/_modules/networkx/utils/union_find.html\n",
    "\"\"\"\n",
    "\n",
    "from networkx.utils import groups\n",
    "\n",
    "\n",
    "class UnionFind:\n",
    "    \"\"\"Union-find data structure.\n",
    "\n",
    "    Each unionFind instance X maintains a family of disjoint sets of\n",
    "    hashable objects, supporting the following two methods:\n",
    "\n",
    "    - X[item] returns a name for the set containing the given item.\n",
    "      Each set is named by an arbitrarily-chosen one of its members; as\n",
    "      long as the set remains unchanged it will keep the same name. If\n",
    "      the item is not yet part of a set in X, a new singleton set is\n",
    "      created for it.\n",
    "\n",
    "    - X.union(item1, item2, ...) merges the sets containing each item\n",
    "      into a single larger set.  If any item is not yet part of a set\n",
    "      in X, it is added to X as one of the members of the merged set.\n",
    "\n",
    "      Union-find data structure. Based on Josiah Carlson's code,\n",
    "      https://code.activestate.com/recipes/215912/\n",
    "      with significant additional changes by D. Eppstein.\n",
    "      http://www.ics.uci.edu/~eppstein/PADS/UnionFind.py\n",
    "\n",
    "    \"\"\"\n",
    "\n",
    "    def __init__(self, elements=None):\n",
    "        \"\"\"Create a new empty union-find structure.\n",
    "\n",
    "        If *elements* is an iterable, this structure will be initialized\n",
    "        with the discrete partition on the given set of elements.\n",
    "\n",
    "        \"\"\"\n",
    "        if elements is None:\n",
    "            elements = ()\n",
    "        self.parents = {}\n",
    "        self.weights = {}\n",
    "        for x in elements:\n",
    "            self.weights[x] = 1\n",
    "            self.parents[x] = x\n",
    "\n",
    "    def __getitem__(self, object):\n",
    "        \"\"\"Find and return the name of the set containing the object.\"\"\"\n",
    "\n",
    "        # check for previously unknown object\n",
    "        if object not in self.parents:\n",
    "            self.parents[object] = object\n",
    "            self.weights[object] = 1\n",
    "            return object\n",
    "\n",
    "        # find path of objects leading to the root\n",
    "        path = [object]\n",
    "        root = self.parents[object]\n",
    "        while root != path[-1]:\n",
    "            path.append(root)\n",
    "            root = self.parents[root]\n",
    "\n",
    "        # compress the path and return\n",
    "        for ancestor in path:\n",
    "            self.parents[ancestor] = root\n",
    "        return root\n",
    "\n",
    "    def __iter__(self):\n",
    "        \"\"\"Iterate through all items ever found or unioned by this structure.\"\"\"\n",
    "        return iter(self.parents)\n",
    "\n",
    "    def to_sets(self):\n",
    "        \"\"\"Iterates over the sets stored in this structure.\n",
    "\n",
    "        For example::\n",
    "\n",
    "            #>>> partition = UnionFind(\"xyz\")\n",
    "            #>>> sorted(map(sorted, partition.to_sets()))\n",
    "            #[['x'], ['y'], ['z']]\n",
    "            #>>> partition.union(\"x\", \"y\")\n",
    "            #>>> sorted(map(sorted, partition.to_sets()))\n",
    "            #[['x', 'y'], ['z']]\n",
    "\n",
    "        \"\"\"\n",
    "        # Ensure fully pruned paths\n",
    "        for x in self.parents.keys():\n",
    "            _ = self[x]  # Evaluated for side-effect only\n",
    "\n",
    "        yield from groups(self.parents).values()\n",
    "\n",
    "    def union(self, *objects):\n",
    "\n",
    "        '''Find the sets containing the objects and merge them all.'''\n",
    "        # Find the heaviest root according to its weight.\n",
    "        roots = iter(\n",
    "            sorted(\n",
    "                {self[x] for x in objects}, key=lambda r: self.weights[r], reverse=True\n",
    "            )\n",
    "        )\n",
    "        try:\n",
    "            root = next(roots)\n",
    "        except StopIteration:\n",
    "            return\n",
    "\n",
    "        for r in roots:\n",
    "            self.weights[root] += self.weights[r]\n",
    "            self.parents[r] = root"
   ],
   "metadata": {
    "collapsed": false,
    "pycharm": {
     "name": "#%%\n"
    }
   }
  },
  {
   "cell_type": "code",
   "execution_count": null,
   "outputs": [],
   "source": [
    "x = UnionFind(map.keys())\n",
    "\n",
    "for i in bitmask:\n",
    "    for j in map.keys():\n",
    "        if j^i in map.keys():\n",
    "            x.union(j,j^i)"
   ],
   "metadata": {
    "collapsed": false,
    "pycharm": {
     "name": "#%%\n"
    }
   }
  },
  {
   "cell_type": "code",
   "execution_count": null,
   "outputs": [],
   "source": [
    "clusters = []\n",
    "\n",
    "for i in map.keys():\n",
    "    if x.__getitem__(i) not in clusters:\n",
    "        clusters.append(x.__getitem__(i))\n",
    "\n",
    "print(len(clusters))"
   ],
   "metadata": {
    "collapsed": false,
    "pycharm": {
     "name": "#%%\n"
    }
   }
  },
  {
   "cell_type": "code",
   "execution_count": null,
   "outputs": [],
   "source": [],
   "metadata": {
    "collapsed": false,
    "pycharm": {
     "name": "#%%\n"
    }
   }
  }
 ],
 "metadata": {
  "kernelspec": {
   "display_name": "Python 3",
   "language": "python",
   "name": "python3"
  },
  "language_info": {
   "codemirror_mode": {
    "name": "ipython",
    "version": 2
   },
   "file_extension": ".py",
   "mimetype": "text/x-python",
   "name": "python",
   "nbconvert_exporter": "python",
   "pygments_lexer": "ipython2",
   "version": "2.7.6"
  }
 },
 "nbformat": 4,
 "nbformat_minor": 0
}