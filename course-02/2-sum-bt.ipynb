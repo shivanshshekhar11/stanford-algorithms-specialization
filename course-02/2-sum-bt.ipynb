{
 "cells": [
  {
   "cell_type": "code",
   "execution_count": null,
   "outputs": [],
   "source": [
    "# using binary search trees, incorrect, TBD"
   ],
   "metadata": {
    "collapsed": false,
    "pycharm": {
     "name": "#%%\n"
    }
   }
  },
  {
   "cell_type": "code",
   "execution_count": null,
   "outputs": [],
   "source": [
    "def binary_search_low(key,start,end):\n",
    "    if end-start==0:\n",
    "        if array[end]<key:\n",
    "            return end+1\n",
    "        else:\n",
    "            return end\n",
    "\n",
    "    mid = (start+end)//2\n",
    "\n",
    "    if array[mid]==key:\n",
    "        return mid\n",
    "\n",
    "    elif array[mid]<key:\n",
    "        binary_search_low(key,mid+1,end)\n",
    "\n",
    "    else:\n",
    "        binary_search_low(key,start,mid-1)\n",
    "\n",
    "def binary_search_high(key,start,end):\n",
    "    if end-start==0:\n",
    "        if array[end]>key:\n",
    "            return end-1\n",
    "        else:\n",
    "            return end\n",
    "\n",
    "    mid = (start+end)//2\n",
    "\n",
    "    if array[mid]==key:\n",
    "        return mid\n",
    "\n",
    "    elif array[mid]<key:\n",
    "        binary_search_high(key,mid+1,end)\n",
    "\n",
    "    else:\n",
    "        binary_search_high(key,start,mid-1)"
   ],
   "metadata": {
    "collapsed": false,
    "pycharm": {
     "name": "#%%\n"
    }
   }
  },
  {
   "cell_type": "code",
   "execution_count": null,
   "outputs": [],
   "source": [
    "# small case testing\n",
    "\n",
    "array = []"
   ],
   "metadata": {
    "collapsed": false,
    "pycharm": {
     "name": "#%%\n"
    }
   }
  },
  {
   "cell_type": "code",
   "execution_count": null,
   "outputs": [],
   "source": [
    "#2-sum problem : stanford coursera\n",
    "\n",
    "array = []\n",
    "file = open(r\"C:\\Users\\shiva\\Downloads\\2-sum.txt\",\"r\")\n",
    "\n",
    "for i in file:\n",
    "    array.append(int(i))\n",
    "\n",
    "array.sort()"
   ],
   "metadata": {
    "collapsed": false,
    "pycharm": {
     "name": "#%%\n"
    }
   }
  },
  {
   "cell_type": "code",
   "execution_count": null,
   "outputs": [],
   "source": [
    "sums = []\n",
    "start = 0\n",
    "end = 0\n",
    "\n",
    "for i in array:\n",
    "    start=binary_search_low(-10000-i,0,len(array)-1)\n",
    "\n",
    "    end=binary_search_high(10000-i,0,len(array)-1)\n",
    "\n",
    "    if end-start>=0:\n",
    "        for j in array[start:end+1]:\n",
    "            if i+j not in sums and i!=j:\n",
    "                sums.append(i+j)\n",
    "\n",
    "print(len(sums))"
   ],
   "metadata": {
    "collapsed": false,
    "pycharm": {
     "name": "#%%\n"
    }
   }
  },
  {
   "cell_type": "code",
   "execution_count": null,
   "outputs": [],
   "source": [],
   "metadata": {
    "collapsed": false,
    "pycharm": {
     "name": "#%%\n"
    }
   }
  }
 ],
 "metadata": {
  "kernelspec": {
   "display_name": "Python 3",
   "language": "python",
   "name": "python3"
  },
  "language_info": {
   "codemirror_mode": {
    "name": "ipython",
    "version": 2
   },
   "file_extension": ".py",
   "mimetype": "text/x-python",
   "name": "python",
   "nbconvert_exporter": "python",
   "pygments_lexer": "ipython2",
   "version": "2.7.6"
  }
 },
 "nbformat": 4,
 "nbformat_minor": 0
}