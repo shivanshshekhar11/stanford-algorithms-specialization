{
 "cells": [
  {
   "cell_type": "code",
   "execution_count": null,
   "outputs": [],
   "source": [
    "# not implemented, TBD"
   ],
   "metadata": {
    "collapsed": false,
    "pycharm": {
     "name": "#%%\n"
    }
   }
  },
  {
   "cell_type": "code",
   "execution_count": null,
   "metadata": {},
   "outputs": [],
   "source": [
    "print(\"2-sum\")"
   ]
  },
  {
   "cell_type": "code",
   "execution_count": null,
   "metadata": {
    "pycharm": {
     "name": "#%%\n"
    }
   },
   "outputs": [],
   "source": [
    "hash_table = [[] for i in range(10000)]\n",
    "\n",
    "def hash_func(key):\n",
    "    code = 0\n",
    "\n",
    "    for i in str(key):\n",
    "        code+=ord(i)\n",
    "\n",
    "    index = (code*2319001)%10000\n",
    "\n",
    "    return index\n",
    "\n",
    "\n",
    "def hash_insert (key,value):\n",
    "    index = hash_func(key)\n",
    "\n",
    "    #print(index)\n",
    "\n",
    "    hash_table[index].append(value)\n",
    "\n",
    "def hash_access (key):\n",
    "    index = hash_func(key)\n",
    "\n",
    "    return hash_table[index]\n",
    "\n",
    "def hash_delete (key):\n",
    "    index = hash_func(key)\n",
    "\n",
    "    hash_table[index]=[]"
   ]
  },
  {
   "cell_type": "code",
   "execution_count": null,
   "metadata": {
    "pycharm": {
     "name": "#%%\n"
    }
   },
   "outputs": [],
   "source": [
    "#insert test\n",
    "\n",
    "keys = []\n",
    "\n",
    "for i in range(3):\n",
    "    key = input(\"Enter the key -\")\n",
    "    keys.append(key)\n",
    "    value = input(\"Enter the value -\")\n",
    "    hash_insert(key,value)"
   ]
  },
  {
   "cell_type": "code",
   "execution_count": null,
   "metadata": {
    "pycharm": {
     "name": "#%%\n"
    }
   },
   "outputs": [],
   "source": [
    "#access test\n",
    "\n",
    "for i in keys:\n",
    "    print(str(i)+\" - \"+str(hash_access(i)))"
   ]
  },
  {
   "cell_type": "code",
   "execution_count": null,
   "metadata": {
    "pycharm": {
     "name": "#%%\n"
    }
   },
   "outputs": [],
   "source": [
    "print(hash_table)"
   ]
  },
  {
   "cell_type": "code",
   "execution_count": null,
   "metadata": {
    "pycharm": {
     "name": "#%%\n"
    }
   },
   "outputs": [],
   "source": [
    "#logic testing\n",
    "\n",
    "array = []\n",
    "hash_table = [[] for i in range(10000)]\n",
    "num = 0\n",
    "\n",
    "for i in range(10):\n",
    "    num = int(input(\"Enter a number -\"))\n",
    "    array.append(num)\n",
    "    hash_insert(num,1)\n",
    "\n",
    "sum = [60,50,40]\n",
    "\n",
    "for j in sum:\n",
    "    for i in array:\n",
    "        if(hash_access(j-i)==[1]):\n",
    "            print(\"found a pair - \"+str(i)+\",\"+str(j-i))\n",
    "            break"
   ]
  },
  {
   "cell_type": "code",
   "execution_count": null,
   "outputs": [],
   "source": [
    "#small case testing\n",
    "\n",
    "array = []\n",
    "hash_table = [[] for i in range(10000)]"
   ],
   "metadata": {
    "collapsed": false,
    "pycharm": {
     "name": "#%%\n"
    }
   }
  },
  {
   "cell_type": "code",
   "execution_count": null,
   "metadata": {
    "pycharm": {
     "name": "#%%\n"
    }
   },
   "outputs": [],
   "source": [
    "#2-sum problem : stanford coursera\n",
    "\n",
    "array = []\n",
    "file = open(r\"C:\\Users\\shiva\\Downloads\\2-sum.txt\",\"r\")\n",
    "\n",
    "for i in file:\n",
    "    array.append(int(i))"
   ]
  },
  {
   "cell_type": "code",
   "execution_count": null,
   "metadata": {},
   "outputs": [],
   "source": []
  }
 ],
 "metadata": {
  "kernelspec": {
   "display_name": "Python 3",
   "language": "python",
   "name": "python3"
  },
  "language_info": {
   "codemirror_mode": {
    "name": "ipython",
    "version": 3
   },
   "file_extension": ".py",
   "mimetype": "text/x-python",
   "name": "python",
   "nbconvert_exporter": "python",
   "pygments_lexer": "ipython3",
   "version": "3.7.6"
  }
 },
 "nbformat": 4,
 "nbformat_minor": 1
}