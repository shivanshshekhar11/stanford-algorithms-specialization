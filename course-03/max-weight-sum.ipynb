{
 "cells": [
  {
   "cell_type": "code",
   "execution_count": null,
   "metadata": {
    "collapsed": true
   },
   "outputs": [],
   "source": [
    "#Maximum weighted independent set of a path graph. Refer to web for more problem detail.\n",
    "#manual input\n",
    "\n",
    "vertices = []\n",
    "vertices.append(\"t\")\n",
    "num = int(input(\"Enter the number of the vertices - \"))\n",
    "\n",
    "for i in range(0,num):\n",
    "    vertices.append(int(input(\"Enter the \"+str(i+1)+\" vertex - \")))\n",
    "\n",
    "print(vertices)"
   ]
  },
  {
   "cell_type": "code",
   "execution_count": null,
   "outputs": [],
   "source": [
    "#file input\n",
    "\n",
    "vertices = []\n",
    "vertices.append(\"t\")\n",
    "\n",
    "file = open(r\"C:\\Users\\shiva\\Downloads\\mwis.txt\",\"r\")\n",
    "\n",
    "data = file.readlines()\n",
    "\n",
    "number = int(data[0])\n",
    "\n",
    "for i in data[1:]:\n",
    "    vertices.append(int(i))\n",
    "\n",
    "#print(vertices)"
   ],
   "metadata": {
    "collapsed": false,
    "pycharm": {
     "name": "#%%\n"
    }
   }
  },
  {
   "cell_type": "code",
   "execution_count": null,
   "outputs": [],
   "source": [
    "sums = []\n",
    "sums.append(0)\n",
    "sums.append(vertices[1])\n",
    "\n",
    "for i in range(2,len(vertices)):\n",
    "    sums.append(max(sums[i-1],sums[i-2]+vertices[i]))\n",
    "\n",
    "#print(sums)"
   ],
   "metadata": {
    "collapsed": false,
    "pycharm": {
     "name": "#%%\n"
    }
   }
  },
  {
   "cell_type": "code",
   "execution_count": null,
   "outputs": [],
   "source": [
    "i = len(sums)-1\n",
    "inc = []\n",
    "\n",
    "while i>=1:\n",
    "    if(sums[i-1]>sums[i-2]+vertices[i]):\n",
    "        i-=1\n",
    "\n",
    "    else:\n",
    "        inc.append(str(i))\n",
    "        i-=2\n",
    "\n",
    "#print(inc)"
   ],
   "metadata": {
    "collapsed": false,
    "pycharm": {
     "name": "#%%\n"
    }
   }
  },
  {
   "cell_type": "code",
   "execution_count": null,
   "outputs": [],
   "source": [
    "test = [1,2,3,4,17,117,517,997]\n",
    "ans = \"\"\n",
    "\n",
    "for i in test:\n",
    "    if str(i) in inc:\n",
    "        ans+=\"1\"\n",
    "    else:\n",
    "        ans+=\"0\"\n",
    "\n",
    "print(ans)"
   ],
   "metadata": {
    "collapsed": false,
    "pycharm": {
     "name": "#%%\n"
    }
   }
  },
  {
   "cell_type": "code",
   "execution_count": null,
   "outputs": [],
   "source": [],
   "metadata": {
    "collapsed": false,
    "pycharm": {
     "name": "#%%\n"
    }
   }
  }
 ],
 "metadata": {
  "kernelspec": {
   "display_name": "Python 3",
   "language": "python",
   "name": "python3"
  },
  "language_info": {
   "codemirror_mode": {
    "name": "ipython",
    "version": 2
   },
   "file_extension": ".py",
   "mimetype": "text/x-python",
   "name": "python",
   "nbconvert_exporter": "python",
   "pygments_lexer": "ipython2",
   "version": "2.7.6"
  }
 },
 "nbformat": 4,
 "nbformat_minor": 0
}