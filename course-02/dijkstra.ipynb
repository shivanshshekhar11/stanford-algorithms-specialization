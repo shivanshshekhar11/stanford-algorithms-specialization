{
 "cells": [
  {
   "cell_type": "code",
   "execution_count": null,
   "metadata": {},
   "outputs": [],
   "source": [
    "ingraph = []\n",
    "edge = \"\"\n",
    "while (edge != \"stop\"):\n",
    "    edge = input(\"Enter the edge and it's neighbours :\")\n",
    "    ingraph.append(edge.split(\" \"))\n",
    "\n",
    "ingraph.pop(-1)\n",
    "print(ingraph)"
   ]
  },
  {
   "cell_type": "code",
   "execution_count": null,
   "metadata": {},
   "outputs": [],
   "source": [
    "file = open(r\"C:\\Users\\shiva\\Downloads\\dijkstra.txt\",\"r\")\n",
    "ingraph = []\n",
    "data = file.readlines()\n",
    "\n",
    "file.seek(0)\n",
    "\n",
    "for line in data:\n",
    "\n",
    "    ingraph.append(line.split(\"\\t\"))\n",
    "    \n",
    "for i in ingraph:\n",
    "    i.pop(-1)\n",
    "\n",
    "#print(ingraph)"
   ]
  },
  {
   "cell_type": "code",
   "execution_count": null,
   "metadata": {},
   "outputs": [],
   "source": [
    "graph = {}\n",
    "for i in range(0,len(ingraph)):\n",
    "    graph[ingraph[i][0]]=[]\n",
    "    for j in range(1,len(ingraph[i])):\n",
    "        graph[ingraph[i][0]].append(ingraph[i][j].split(\",\"))\n",
    "        \n",
    "#print(graph)"
   ]
  },
  {
   "cell_type": "code",
   "execution_count": null,
   "metadata": {},
   "outputs": [],
   "source": [
    "for i in graph.keys():\n",
    "    for j in graph[i]:\n",
    "        graph[j[0]].append([i,j[1]])\n",
    "        \n",
    "#print(graph)"
   ]
  },
  {
   "cell_type": "code",
   "execution_count": null,
   "metadata": {},
   "outputs": [],
   "source": [
    "heap = [1000000]*(len(graph)+1)\n",
    "heap[1] = 0\n",
    "heap[0] = 2000000\n",
    "#print(heap)\n",
    "\n",
    "dist_list = {}"
   ]
  },
  {
   "cell_type": "code",
   "execution_count": null,
   "metadata": {},
   "outputs": [],
   "source": [
    "min_dist = 0\n",
    "min_edge = 1\n",
    "\n",
    "for i in range(0,len(graph)):\n",
    "    min_dist = min(heap)\n",
    "    min_edge = str(min(range(len(heap)), key=heap.__getitem__))\n",
    "    #print(min_dist,min_edge)\n",
    "    for j in graph[min_edge]:\n",
    "        #print(j)\n",
    "        if ((min_dist+int(j[1]))<heap[int(j[0])]):\n",
    "            if(heap[int(j[0])]==2000000):\n",
    "                continue\n",
    "            else:\n",
    "                heap[int(j[0])]=(min_dist+int(j[1]))\n",
    "    \n",
    "    dist_list[min_edge]=min_dist\n",
    "    heap[int(min_edge)]=2000000"
   ]
  },
  {
   "cell_type": "code",
   "execution_count": null,
   "metadata": {
    "scrolled": true
   },
   "outputs": [],
   "source": [
    "#print(dist_list)\n",
    "\n",
    "assign = \"7,37,59,82,99,115,133,165,188,197\".split(\",\")\n",
    "result=\"\"\n",
    "\n",
    "for i in assign:\n",
    "    result=result+str(dist_list[i])+\",\"\n",
    "    \n",
    "print(result)"
   ]
  },
  {
   "cell_type": "code",
   "execution_count": null,
   "metadata": {},
   "outputs": [],
   "source": []
  }
 ],
 "metadata": {
  "kernelspec": {
   "display_name": "Python 3",
   "language": "python",
   "name": "python3"
  },
  "language_info": {
   "codemirror_mode": {
    "name": "ipython",
    "version": 3
   },
   "file_extension": ".py",
   "mimetype": "text/x-python",
   "name": "python",
   "nbconvert_exporter": "python",
   "pygments_lexer": "ipython3",
   "version": "3.7.6"
  }
 },
 "nbformat": 4,
 "nbformat_minor": 4
}
