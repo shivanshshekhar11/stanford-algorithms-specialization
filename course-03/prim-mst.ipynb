{
 "cells": [
  {
   "cell_type": "code",
   "execution_count": null,
   "outputs": [],
   "source": [
    "raw_graph = []\n",
    "raw_graph_rev = []\n",
    "\n",
    "file = open(r\"C:\\Users\\shiva\\Downloads\\prim-mst.txt\",\"r\")\n",
    "\n",
    "data = file.readlines()\n",
    "\n",
    "vertices = int(data[0].split(\" \")[0])\n",
    "\n",
    "for i in data[1:]:\n",
    "    i = i.split(\" \")\n",
    "    i[2]=int(i[2][:-1])\n",
    "    raw_graph.append(i)\n",
    "\n",
    "    j = i[0:2]\n",
    "    j.reverse()\n",
    "    j.append(i[2])\n",
    "    raw_graph_rev.append(j)\n",
    "\n",
    "print(raw_graph)\n",
    "print(raw_graph_rev)\n",
    "print(vertices)"
   ],
   "metadata": {
    "collapsed": false,
    "pycharm": {
     "name": "#%%\n"
    }
   }
  },
  {
   "cell_type": "code",
   "execution_count": null,
   "outputs": [],
   "source": [
    "graph = {}\n",
    "\n",
    "i=0\n",
    "for i in range(0,len(raw_graph)):\n",
    "        if raw_graph[i][0] in graph.keys():\n",
    "            graph[raw_graph[i][0]].append(raw_graph[i][1:])\n",
    "        else:\n",
    "            graph[raw_graph[i][0]] = []\n",
    "            graph[raw_graph[i][0]].append(raw_graph[i][1:])\n",
    "\n",
    "for i in range(0,len(raw_graph_rev)):\n",
    "    if raw_graph_rev[i][0] in graph.keys():\n",
    "        graph[raw_graph_rev[i][0]].append(raw_graph_rev[i][1:])\n",
    "    else:\n",
    "        graph[raw_graph_rev[i][0]] = []\n",
    "        graph[raw_graph_rev[i][0]].append(raw_graph_rev[i][1:])\n",
    "\n",
    "print(graph)"
   ],
   "metadata": {
    "collapsed": false,
    "pycharm": {
     "name": "#%%\n"
    }
   }
  },
  {
   "cell_type": "code",
   "execution_count": null,
   "outputs": [],
   "source": [
    "cutA = [\"1\"]\n",
    "mst_cost = 0\n",
    "\n",
    "for i in range(1,vertices):\n",
    "    min_edge = ['t',100000000]\n",
    "    for i in cutA:\n",
    "        for j in graph[i]:\n",
    "            if j[0] not in cutA:\n",
    "                if j[1] < min_edge[1]:\n",
    "                    min_edge = j\n",
    "\n",
    "    mst_cost+=min_edge[1]\n",
    "    cutA.append(min_edge[0])\n",
    "\n",
    "print(mst_cost)\n",
    "print(cutA)"
   ],
   "metadata": {
    "collapsed": false,
    "pycharm": {
     "name": "#%%\n"
    }
   }
  },
  {
   "cell_type": "code",
   "execution_count": null,
   "outputs": [],
   "source": [],
   "metadata": {
    "collapsed": false,
    "pycharm": {
     "name": "#%%\n"
    }
   }
  }
 ],
 "metadata": {
  "kernelspec": {
   "display_name": "Python 3",
   "language": "python",
   "name": "python3"
  },
  "language_info": {
   "codemirror_mode": {
    "name": "ipython",
    "version": 2
   },
   "file_extension": ".py",
   "mimetype": "text/x-python",
   "name": "python",
   "nbconvert_exporter": "python",
   "pygments_lexer": "ipython2",
   "version": "2.7.6"
  }
 },
 "nbformat": 4,
 "nbformat_minor": 0
}