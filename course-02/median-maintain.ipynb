{
 "cells": [
  {
   "cell_type": "code",
   "execution_count": null,
   "metadata": {
    "collapsed": true
   },
   "outputs": [],
   "source": [
    "print(\"Hello world\")"
   ]
  },
  {
   "cell_type": "code",
   "execution_count": null,
   "outputs": [],
   "source": [
    "def insert_heap_min (heap,num):\n",
    "    temp = 0\n",
    "\n",
    "    heap.append(num)\n",
    "\n",
    "    pos = len(heap)\n",
    "\n",
    "    while(pos-1!=0):\n",
    "        if(heap[pos-1]<heap[(pos//2)-1]):\n",
    "            temp = heap[(pos//2)-1]\n",
    "            heap[(pos//2)-1] = heap[pos-1]\n",
    "            heap[pos-1] = temp\n",
    "\n",
    "            pos = pos//2\n",
    "            continue\n",
    "\n",
    "        else:\n",
    "            break\n",
    "\n",
    "def extract_min(heap):\n",
    "\n",
    "    if(len(heap)==0):\n",
    "        print(\"heap empty\")\n",
    "        return\n",
    "\n",
    "    num = heap[0]\n",
    "    temp = 0\n",
    "\n",
    "    heap[0] = heap[-1]\n",
    "    heap.pop(-1)\n",
    "\n",
    "    pos = 1\n",
    "\n",
    "    while (pos*2<=len(heap)):\n",
    "\n",
    "        if (pos*2+1>len(heap)):\n",
    "            if(heap[pos-1]>heap[pos*2-1]):\n",
    "                temp = heap[(pos*2)-1]\n",
    "                heap[(pos*2)-1] = heap[pos-1]\n",
    "                heap[pos-1] = temp\n",
    "\n",
    "                pos=pos*2\n",
    "                continue\n",
    "\n",
    "            break\n",
    "\n",
    "        if(heap[(pos*2)-1]<heap[pos*2]):\n",
    "            temp = heap[(pos*2)-1]\n",
    "            heap[(pos*2)-1] = heap[pos-1]\n",
    "            heap[pos-1] = temp\n",
    "\n",
    "            pos=pos*2\n",
    "            continue\n",
    "\n",
    "        else:\n",
    "            temp = heap[(pos*2)]\n",
    "            heap[(pos*2)] = heap[pos-1]\n",
    "            heap[pos-1] = temp\n",
    "\n",
    "            pos=pos*2+1\n",
    "            continue\n",
    "\n",
    "    return num"
   ],
   "metadata": {
    "collapsed": false,
    "pycharm": {
     "name": "#%%\n"
    }
   }
  },
  {
   "cell_type": "code",
   "execution_count": null,
   "outputs": [],
   "source": [
    "def insert_heap_max (heap,num):\n",
    "    temp = 0\n",
    "\n",
    "    heap.append(num)\n",
    "\n",
    "    pos = len(heap)\n",
    "\n",
    "    while(pos-1!=0):\n",
    "        if(heap[pos-1]>heap[(pos//2)-1]):\n",
    "            temp = heap[(pos//2)-1]\n",
    "            heap[(pos//2)-1] = heap[pos-1]\n",
    "            heap[pos-1] = temp\n",
    "\n",
    "            pos = pos//2\n",
    "            continue\n",
    "\n",
    "        else:\n",
    "            break\n",
    "\n",
    "def extract_max(heap):\n",
    "\n",
    "    if(len(heap)==0):\n",
    "        print(\"heap empty\")\n",
    "        return\n",
    "\n",
    "    num = heap[0]\n",
    "    temp = 0\n",
    "\n",
    "    heap[0] = heap[-1]\n",
    "    heap.pop(-1)\n",
    "\n",
    "    pos = 1\n",
    "\n",
    "    while (pos*2<=len(heap)):\n",
    "\n",
    "        if (pos*2+1>len(heap)):\n",
    "            if(heap[pos-1]<heap[pos*2-1]):\n",
    "                temp = heap[(pos*2)-1]\n",
    "                heap[(pos*2)-1] = heap[pos-1]\n",
    "                heap[pos-1] = temp\n",
    "\n",
    "                pos=pos*2\n",
    "                continue\n",
    "\n",
    "            break\n",
    "\n",
    "        if(heap[(pos*2)-1]>heap[pos*2]):\n",
    "            temp = heap[(pos*2)-1]\n",
    "            heap[(pos*2)-1] = heap[pos-1]\n",
    "            heap[pos-1] = temp\n",
    "\n",
    "            pos=pos*2\n",
    "            continue\n",
    "\n",
    "        else:\n",
    "            temp = heap[(pos*2)]\n",
    "            heap[(pos*2)] = heap[pos-1]\n",
    "            heap[pos-1] = temp\n",
    "\n",
    "            pos=pos*2+1\n",
    "            continue\n",
    "\n",
    "    return num"
   ],
   "metadata": {
    "collapsed": false,
    "pycharm": {
     "name": "#%%\n"
    }
   }
  },
  {
   "cell_type": "code",
   "execution_count": null,
   "outputs": [],
   "source": [
    "#min heap testing\n",
    "\n",
    "heap_min = []\n",
    "\n",
    "for i in range(5):\n",
    "    insert_heap_min(heap_min,int(input()))\n",
    "    print(heap_min)\n",
    "\n",
    "for i in range(5):\n",
    "    print(extract_min(heap_min))\n",
    "    print(heap_min)"
   ],
   "metadata": {
    "collapsed": false,
    "pycharm": {
     "name": "#%%\n"
    }
   }
  },
  {
   "cell_type": "code",
   "execution_count": null,
   "outputs": [],
   "source": [
    "#max heap testing\n",
    "\n",
    "heap_max = []\n",
    "\n",
    "for i in range(5):\n",
    "    insert_heap_max(heap_max,int(input()))\n",
    "    print(heap_max)\n",
    "\n",
    "for i in range(5):\n",
    "    print(extract_max(heap_max))\n",
    "    print(heap_max)"
   ],
   "metadata": {
    "collapsed": false,
    "pycharm": {
     "name": "#%%\n"
    }
   }
  },
  {
   "cell_type": "code",
   "execution_count": null,
   "outputs": [],
   "source": [
    "file = open(r\"C:\\Users\\shiva\\Downloads\\heap-exercise.txt\",\"r\")\n",
    "input_values = []\n",
    "\n",
    "file.seek(0)\n",
    "\n",
    "for i in file:\n",
    "\n",
    "    input_values.append(int(i))\n",
    "\n",
    "file.close()"
   ],
   "metadata": {
    "collapsed": false,
    "pycharm": {
     "name": "#%%\n"
    }
   }
  },
  {
   "cell_type": "code",
   "execution_count": null,
   "outputs": [],
   "source": [
    "medians = []\n",
    "\n",
    "heap_low_max = []\n",
    "heap_high_min = []\n",
    "\n",
    "for i in range(1,len(input_values)+1):\n",
    "    num = input_values[i-1]\n",
    "\n",
    "    if ((len(heap_low_max) == 0)or(num<heap_low_max[0])):\n",
    "        insert_heap_max(heap_low_max,num)\n",
    "\n",
    "    else:\n",
    "        insert_heap_min(heap_high_min,num)\n",
    "\n",
    "    if i%2==0:\n",
    "        if(len(heap_low_max)>len(heap_high_min)):\n",
    "            insert_heap_min(heap_high_min,extract_max(heap_low_max))\n",
    "\n",
    "        elif(len(heap_low_max)<len(heap_high_min)):\n",
    "            insert_heap_max(heap_low_max,extract_min(heap_high_min))\n",
    "\n",
    "        medians.append(heap_low_max[0])\n",
    "\n",
    "    else:\n",
    "        if(len(heap_low_max)>len(heap_high_min)):\n",
    "            medians.append(heap_low_max[0])\n",
    "\n",
    "        else:\n",
    "            medians.append(heap_high_min[0])"
   ],
   "metadata": {
    "collapsed": false,
    "pycharm": {
     "name": "#%%\n"
    }
   }
  },
  {
   "cell_type": "code",
   "execution_count": null,
   "outputs": [],
   "source": [
    "#median maintenance testing\n",
    "\n",
    "print(input_values)\n",
    "print(medians)"
   ],
   "metadata": {
    "collapsed": false,
    "pycharm": {
     "name": "#%%\n"
    }
   }
  },
  {
   "cell_type": "code",
   "execution_count": null,
   "outputs": [],
   "source": [
    "print(sum(medians)%10000)"
   ],
   "metadata": {
    "collapsed": false,
    "pycharm": {
     "name": "#%%\n"
    }
   }
  },
  {
   "cell_type": "code",
   "execution_count": null,
   "outputs": [],
   "source": [],
   "metadata": {
    "collapsed": false,
    "pycharm": {
     "name": "#%%\n"
    }
   }
  }
 ],
 "metadata": {
  "kernelspec": {
   "display_name": "Python 3",
   "language": "python",
   "name": "python3"
  },
  "language_info": {
   "codemirror_mode": {
    "name": "ipython",
    "version": 2
   },
   "file_extension": ".py",
   "mimetype": "text/x-python",
   "name": "python",
   "nbconvert_exporter": "python",
   "pygments_lexer": "ipython2",
   "version": "2.7.6"
  }
 },
 "nbformat": 4,
 "nbformat_minor": 0
}