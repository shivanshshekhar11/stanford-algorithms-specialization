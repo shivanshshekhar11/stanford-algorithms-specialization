{
 "cells": [
  {
   "cell_type": "code",
   "execution_count": null,
   "metadata": {
    "collapsed": true
   },
   "outputs": [],
   "source": [
    "array = []\n",
    "file = open(r\"C:\\Users\\shiva\\Downloads\\2-sum.txt\",\"r\")\n",
    "\n",
    "for i in file:\n",
    "    array.append(int(i))\n",
    "\n",
    "array.sort()"
   ]
  },
  {
   "cell_type": "code",
   "execution_count": null,
   "outputs": [],
   "source": [
    "i = 0\n",
    "j = len(array)-1\n",
    "sums = []\n",
    "\n",
    "while (i<=j):\n",
    "    if(array[i]+array[j]<-10000):\n",
    "        i+=1\n",
    "\n",
    "    elif(array[i]+array[j]>10000):\n",
    "        j-=1\n",
    "\n",
    "    else:\n",
    "        while(array[i]+array[j]<=10000):\n",
    "            if array[j]!=array[i]:\n",
    "                if array[i]+array[j] not in sums:\n",
    "                    sums.append(array[i]+array[j])\n",
    "            i+=1\n",
    "\n",
    "        j-=1\n",
    "\n",
    "print(len(sums))"
   ],
   "metadata": {
    "collapsed": false,
    "pycharm": {
     "name": "#%%\n"
    }
   }
  },
  {
   "cell_type": "code",
   "execution_count": null,
   "outputs": [],
   "source": [],
   "metadata": {
    "collapsed": false,
    "pycharm": {
     "name": "#%%\n"
    }
   }
  }
 ],
 "metadata": {
  "kernelspec": {
   "display_name": "Python 3",
   "language": "python",
   "name": "python3"
  },
  "language_info": {
   "codemirror_mode": {
    "name": "ipython",
    "version": 2
   },
   "file_extension": ".py",
   "mimetype": "text/x-python",
   "name": "python",
   "nbconvert_exporter": "python",
   "pygments_lexer": "ipython2",
   "version": "2.7.6"
  }
 },
 "nbformat": 4,
 "nbformat_minor": 0
}