{
 "cells": [
  {
   "cell_type": "code",
   "execution_count": null,
   "metadata": {
    "collapsed": true
   },
   "outputs": [],
   "source": [
    "#manual input\n",
    "\n",
    "capacity = int(input(\"Enter the capacity of the knapsack - \"))\n",
    "num = int(input(\"Enter the number of items - \"))\n",
    "\n",
    "items = []\n",
    "\n",
    "for i in range(0,num):\n",
    "    item = input(\"Enter \"+str(i+1)+\" item in format value space weight - \").split(\" \")\n",
    "    item[0] = int(item[0])\n",
    "    item[1] = int(item[1])\n",
    "    items.append(item)\n",
    "\n",
    "#print(items)"
   ]
  },
  {
   "cell_type": "code",
   "execution_count": null,
   "outputs": [],
   "source": [
    "#file input\n",
    "\n",
    "items = []\n",
    "\n",
    "file = open(r\"C:\\Users\\shiva\\Downloads\\knapsack-02.txt\",\"r\")\n",
    "\n",
    "data = file.readlines()\n",
    "\n",
    "capacity = int(data[0].split(\" \")[0])\n",
    "\n",
    "num = int(data[0].split(\" \")[1])\n",
    "\n",
    "for i in data[1:]:\n",
    "    item = i.split(\" \")\n",
    "    item[0] = int(item[0])\n",
    "    item[1] = int(item[1])\n",
    "    items.append(item)\n",
    "\n",
    "#print(items)"
   ],
   "metadata": {
    "collapsed": false,
    "pycharm": {
     "name": "#%%\n"
    }
   }
  },
  {
   "cell_type": "code",
   "execution_count": null,
   "outputs": [],
   "source": [
    "#straight-forward implementation\n",
    "\n",
    "x = list(list(0 for i in range(0,capacity+1)) for i in range(0,num+1))\n",
    "\n",
    "for i in range(1,num+1):\n",
    "    for j in range(0,capacity+1):\n",
    "        if j<items[i-1][1]:\n",
    "            x[i][j] = x[i-1][j]\n",
    "            continue\n",
    "\n",
    "        x[i][j] = max(x[i-1][j],x[i-1][j-items[i-1][1]]+items[i-1][0])\n",
    "\n",
    "print(x[-1][-1])\n",
    "#print(x)"
   ],
   "metadata": {
    "collapsed": false,
    "pycharm": {
     "name": "#%%\n"
    }
   }
  },
  {
   "cell_type": "code",
   "execution_count": null,
   "outputs": [],
   "source": [
    "#for large data - recursive approach\n",
    "\n",
    "solutions = {}\n",
    "\n",
    "def knap(item_no, capacity):\n",
    "    if item_no == 0:\n",
    "        return 0;\n",
    "\n",
    "    if capacity < items[item_no-1][1]:\n",
    "        temp = knap(item_no-1,capacity)\n",
    "        solutions[str(item_no)+str(capacity)] = temp\n",
    "        return temp\n",
    "\n",
    "    if str(item_no)+str(capacity) in solutions.keys():\n",
    "        return solutions[str(item_no)+str(capacity)]\n",
    "\n",
    "    else:\n",
    "        temp = max(knap(item_no-1,capacity),knap(item_no-1,capacity-items[item_no-1][1])+items[item_no-1][0])\n",
    "        solutions[str(item_no)+str(capacity)] = temp\n",
    "        return temp"
   ],
   "metadata": {
    "collapsed": false,
    "pycharm": {
     "name": "#%%\n"
    }
   }
  },
  {
   "cell_type": "code",
   "execution_count": null,
   "outputs": [],
   "source": [
    "print(knap(num,capacity))"
   ],
   "metadata": {
    "collapsed": false,
    "pycharm": {
     "name": "#%%\n"
    }
   }
  },
  {
   "cell_type": "code",
   "execution_count": null,
   "outputs": [],
   "source": [],
   "metadata": {
    "collapsed": false,
    "pycharm": {
     "name": "#%%\n"
    }
   }
  }
 ],
 "metadata": {
  "kernelspec": {
   "display_name": "Python 3",
   "language": "python",
   "name": "python3"
  },
  "language_info": {
   "codemirror_mode": {
    "name": "ipython",
    "version": 2
   },
   "file_extension": ".py",
   "mimetype": "text/x-python",
   "name": "python",
   "nbconvert_exporter": "python",
   "pygments_lexer": "ipython2",
   "version": "2.7.6"
  }
 },
 "nbformat": 4,
 "nbformat_minor": 0
}