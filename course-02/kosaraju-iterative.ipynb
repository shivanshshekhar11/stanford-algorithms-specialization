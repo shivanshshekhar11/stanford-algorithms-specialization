{
 "cells": [
  {
   "cell_type": "code",
   "execution_count": null,
   "metadata": {},
   "outputs": [],
   "source": [
    "rawgraph = []\n",
    "test = \"\"\n",
    "\n",
    "while(test!=\"no\"):\n",
    "    test=input(\"Enter an edge -\")\n",
    "    rawgraph.append(test)\n",
    "    \n",
    "rawgraph.remove(\"no\")\n",
    "print(rawgraph)"
   ]
  },
  {
   "cell_type": "code",
   "execution_count": null,
   "metadata": {},
   "outputs": [],
   "source": [
    "file = open(r\"C:\\Users\\shiva\\Downloads\\kosaraju.txt\",\"r\")\n",
    "rawgraph = []\n",
    "data = file.readlines()\n",
    "\n",
    "file.seek(0)\n",
    "\n",
    "for line in data:\n",
    "\n",
    "    rawgraph.append(line)"
   ]
  },
  {
   "cell_type": "code",
   "execution_count": null,
   "metadata": {},
   "outputs": [],
   "source": [
    "revgraph = {}\n",
    "graph = {}\n",
    "\n",
    "for i in rawgraph:\n",
    "    if i.split(\" \")[1] not in revgraph.keys():\n",
    "        revgraph[i.split(\" \")[1]]=[]\n",
    "        revgraph[i.split(\" \")[1]].append(i.split(\" \")[0])\n",
    "    else:\n",
    "        revgraph[i.split(\" \")[1]].append(i.split(\" \")[0])\n",
    "        \n",
    "    if i.split(\" \")[0] not in graph.keys():\n",
    "        graph[i.split(\" \")[0]]=[]\n",
    "        graph[i.split(\" \")[0]].append(i.split(\" \")[1])\n",
    "    else:\n",
    "        graph[i.split(\" \")[0]].append(i.split(\" \")[1])\n",
    "        \n",
    "for i in rawgraph:\n",
    "    if i.split(\" \")[1] not in graph.keys():\n",
    "        graph[i.split(\" \")[1]]=[]\n",
    "        \n",
    "    if i.split(\" \")[0] not in revgraph.keys():\n",
    "        revgraph[i.split(\" \")[0]]=[]\n",
    "        \n",
    "#print(revgraph)\n",
    "#print(graph)"
   ]
  },
  {
   "cell_type": "code",
   "execution_count": null,
   "metadata": {},
   "outputs": [],
   "source": [
    "finish = 0\n",
    "finishlist = {}\n",
    "stackdfs = []\n",
    "\n",
    "def dfs (graph,node):\n",
    "    global stackdfs\n",
    "    stackdfs.append(node)\n",
    "    flag = 0\n",
    "    \n",
    "    while stackdfs != []:\n",
    "        flag=0\n",
    "        graph[stackdfs[-1]].append(\"v\")\n",
    "        for i in graph[stackdfs[-1]]:\n",
    "            if i==\"v\":\n",
    "                continue\n",
    "            if \"v\" not in graph[i]:\n",
    "                stackdfs.append(i)\n",
    "                flag = 1\n",
    "                break #bug01\n",
    "        \n",
    "        if flag == 0:\n",
    "            global finish\n",
    "            finish += 1\n",
    "            finishlist[stackdfs[-1]]=finish\n",
    "            stackdfs.pop(-1)"
   ]
  },
  {
   "cell_type": "code",
   "execution_count": null,
   "metadata": {},
   "outputs": [],
   "source": [
    "for i in revgraph.keys():\n",
    "    if \"v\" not in revgraph[i]:\n",
    "        dfs(revgraph,i)"
   ]
  },
  {
   "cell_type": "code",
   "execution_count": null,
   "metadata": {},
   "outputs": [],
   "source": [
    "print(revgraph)\n",
    "print(finishlist)"
   ]
  },
  {
   "cell_type": "code",
   "execution_count": null,
   "metadata": {},
   "outputs": [],
   "source": [
    "finishsort = sorted(finishlist.items(), key = lambda kv: kv[1], reverse = True)\n",
    "#print(finishsort)\n",
    "stackdfs = []"
   ]
  },
  {
   "cell_type": "code",
   "execution_count": null,
   "metadata": {},
   "outputs": [],
   "source": [
    "def dfs2 (graph,node):\n",
    "    global stackdfs\n",
    "    stackdfs.append(node)\n",
    "    flag = 0\n",
    "    \n",
    "    while stackdfs != []:\n",
    "        flag = 0\n",
    "        graph[stackdfs[-1]].append(\"v\")\n",
    "        for i in graph[stackdfs[-1]]:\n",
    "            if i == \"v\":\n",
    "                continue\n",
    "            if \"v\" not in graph[i]:\n",
    "                stackdfs.append(i)\n",
    "                flag = 1\n",
    "                global compsize\n",
    "                compsize += 1\n",
    "                break #bug01\n",
    "        \n",
    "        if flag == 0:\n",
    "            stackdfs.pop(-1)"
   ]
  },
  {
   "cell_type": "code",
   "execution_count": null,
   "metadata": {},
   "outputs": [],
   "source": [
    "compsize = 1\n",
    "compsizelist = {}\n",
    "node2 = \"\"\n",
    "\n",
    "for i in range(0,len(finishsort)):\n",
    "    compsize = 1\n",
    "    node2 = finishsort[i][0]\n",
    "    if \"v\" not in graph[node2]:\n",
    "        dfs2(graph,node2)\n",
    "        compsizelist[node2] = compsize"
   ]
  },
  {
   "cell_type": "code",
   "execution_count": null,
   "metadata": {},
   "outputs": [],
   "source": [
    "compsizelist1 = sorted(compsizelist.items(), key = lambda kv: kv[1], reverse = True)\n",
    "print(compsizelist1[0:10])"
   ]
  },
  {
   "cell_type": "code",
   "execution_count": null,
   "metadata": {},
   "outputs": [],
   "source": []
  }
 ],
 "metadata": {
  "kernelspec": {
   "display_name": "Python 3",
   "language": "python",
   "name": "python3"
  },
  "language_info": {
   "codemirror_mode": {
    "name": "ipython",
    "version": 3
   },
   "file_extension": ".py",
   "mimetype": "text/x-python",
   "name": "python",
   "nbconvert_exporter": "python",
   "pygments_lexer": "ipython3",
   "version": "3.7.6"
  }
 },
 "nbformat": 4,
 "nbformat_minor": 4
}
